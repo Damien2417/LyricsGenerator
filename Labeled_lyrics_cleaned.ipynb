{
 "cells": [
  {
   "cell_type": "markdown",
   "metadata": {
    "id": "P1dqPOVEnafA"
   },
   "source": [
    "## Imports"
   ]
  },
  {
   "cell_type": "code",
   "execution_count": 1,
   "metadata": {
    "id": "LqKvlJnTnafD"
   },
   "outputs": [],
   "source": [
    "import numpy as np\n",
    "import tensorflow as tf\n",
    "from tensorflow.keras.preprocessing.text import Tokenizer\n",
    "from tensorflow.keras.preprocessing.sequence import pad_sequences\n",
    "from tensorflow.keras.models import Sequential\n",
    "from tensorflow.keras.layers import Embedding, LSTM, Dense\n",
    "import matplotlib.pyplot as plt\n",
    "import pandas as pd\n",
    "import csv\n",
    "import itertools\n"
   ]
  },
  {
   "cell_type": "markdown",
   "metadata": {
    "id": "qGFUG0cgnafE"
   },
   "source": [
    "## Get data"
   ]
  },
  {
   "cell_type": "code",
   "execution_count": 21,
   "metadata": {
    "id": "jM9aSHOwnafF",
    "outputId": "90a2755b-f2f8-47e8-a119-464d3780af4d"
   },
   "outputs": [
    {
     "data": {
      "text/plain": [
       "2153"
      ]
     },
     "execution_count": 21,
     "metadata": {},
     "output_type": "execute_result"
    }
   ],
   "source": [
    "csv_file = 'LyricsFind.csv'\n",
    "se_values = []\n",
    "\n",
    "nb_song = 50\n",
    "# Préparer les données textuelles pour l'entraînement d'un modèle de langue.\n",
    "# Commencer par lire un fichier et décompose son texte en phrases distinctes.\n",
    "with open(csv_file, 'r', encoding='utf-8') as file:\n",
    "    reader = csv.DictReader(file)\n",
    "    tmp_cpt = 0\n",
    "    for row in reader:\n",
    "        if tmp_cpt > nb_song :\n",
    "            continue\n",
    "        tmp_cpt = tmp_cpt + 1\n",
    "        se_values.append(row['seq'].split('\\n'))\n",
    "\n",
    "lyrics = list(itertools.chain.from_iterable(se_values))\n",
    "len(lyrics)"
   ]
  },
  {
   "cell_type": "markdown",
   "metadata": {
    "id": "RLfd0MZPnafG"
   },
   "source": [
    "## Data Preprocessing"
   ]
  },
  {
   "cell_type": "code",
   "execution_count": 17,
   "metadata": {
    "id": "ElEaKmDGnafG",
    "outputId": "54e90e47-2809-4cb7-8c61-38fe7bf05424"
   },
   "outputs": [
    {
     "name": "stdout",
     "output_type": "stream",
     "text": [
      "1514\n",
      "(11089, 15)\n",
      "<class 'numpy.ndarray'>\n"
     ]
    }
   ],
   "source": [
    "\n",
    "#La classe Keras Tokenizer, apprend le vocabulaire à partir des phrases d'entrée,\n",
    "# tokenise les données textuelles une fois qu'elles ont été analysées.\n",
    "\n",
    "# Tokenize the text data\n",
    "tokenizer = Tokenizer()\n",
    "#fit_on_texts Updates internal vocabulary based on a list of texts\n",
    "tokenizer.fit_on_texts(lyrics)\n",
    "total_words = len(tokenizer.word_index) + 1\n",
    "print(total_words)\n",
    "# Les données tokenisées sont ensuite utilisées pour produire des séquences de n-grammes,\n",
    "# chaque séquence contient une plage de tokens du début à l'index actuel.\n",
    "# Input_sequences contient une liste de ces séquences.\n",
    "# Les séquences sont complétées par des zéros afin de garantir une longueur uniforme.\n",
    "\n",
    "# Create input sequences\n",
    "input_sequences = []\n",
    "for line in lyrics:\n",
    "  #texts_to_sequences Transforms each text in texts to a sequence of integers.\n",
    "  #it basically takes each word in the text and replaces it with its\n",
    "  # corresponding integer value from the word_index dictionary.\n",
    "    token_list = tokenizer.texts_to_sequences([line])[0]\n",
    "    for i in range(0, len(token_list)):\n",
    "        n_gram_sequence = token_list[:i+1]\n",
    "        input_sequences.append(n_gram_sequence)\n",
    "\n",
    "\n",
    "# Pad sequences and split into predictors and label\n",
    "# pad_sequences is used to ensure that all sequences in a list have the same length.\n",
    "max_sequence_len = max([len(seq) for seq in input_sequences])\n",
    "input_sequences = np.array(pad_sequences(input_sequences, maxlen=max_sequence_len, padding='pre'))\n",
    "\n",
    "predictors, labels = input_sequences[:, :-1], input_sequences[:, -1]\n",
    "\n",
    "print(predictors.shape)\n",
    "print(type(labels))"
   ]
  },
  {
   "cell_type": "markdown",
   "metadata": {
    "id": "8s6IBkb5nafH"
   },
   "source": [
    "## Model building"
   ]
  },
  {
   "cell_type": "code",
   "execution_count": 4,
   "metadata": {
    "id": "-voYKvwvnafH"
   },
   "outputs": [],
   "source": [
    "model = Sequential()\n",
    "model.add(Embedding(total_words, 100, input_length=max_sequence_len-1))\n",
    "model.add(LSTM(150))\n",
    "model.add(Dense(total_words, activation='softmax'))\n",
    "\n",
    "model.compile(loss='categorical_crossentropy', optimizer='adam')\n"
   ]
  },
  {
   "cell_type": "markdown",
   "metadata": {
    "id": "V6JdGguGnafI"
   },
   "source": [
    "## Model training & evaluation"
   ]
  },
  {
   "cell_type": "code",
   "execution_count": 5,
   "metadata": {
    "id": "jJomu_l7nafI",
    "outputId": "e7d9e7c4-7816-424a-acc6-32ec92f6512c"
   },
   "outputs": [
    {
     "name": "stdout",
     "output_type": "stream",
     "text": [
      "Epoch 1/100\n",
      "347/347 [==============================] - 11s 22ms/step - loss: 6.2103\n",
      "Epoch 2/100\n",
      "347/347 [==============================] - 7s 21ms/step - loss: 5.8025\n",
      "Epoch 3/100\n",
      "347/347 [==============================] - 8s 23ms/step - loss: 5.4390\n",
      "Epoch 4/100\n",
      "347/347 [==============================] - 8s 23ms/step - loss: 4.9922\n",
      "Epoch 5/100\n",
      "347/347 [==============================] - 9s 25ms/step - loss: 4.5628\n",
      "Epoch 6/100\n",
      "347/347 [==============================] - 8s 24ms/step - loss: 4.1802\n",
      "Epoch 7/100\n",
      "347/347 [==============================] - 9s 25ms/step - loss: 3.8348\n",
      "Epoch 8/100\n",
      "347/347 [==============================] - 9s 26ms/step - loss: 3.5276\n",
      "Epoch 9/100\n",
      "347/347 [==============================] - 9s 26ms/step - loss: 3.2561\n",
      "Epoch 10/100\n",
      "347/347 [==============================] - 9s 26ms/step - loss: 3.0118\n",
      "Epoch 11/100\n",
      "347/347 [==============================] - 9s 26ms/step - loss: 2.7992\n",
      "Epoch 12/100\n",
      "347/347 [==============================] - 9s 27ms/step - loss: 2.6056\n",
      "Epoch 13/100\n",
      "347/347 [==============================] - 8s 24ms/step - loss: 2.4350\n",
      "Epoch 14/100\n",
      "347/347 [==============================] - 9s 26ms/step - loss: 2.2847\n",
      "Epoch 15/100\n",
      "347/347 [==============================] - 9s 27ms/step - loss: 2.1511\n",
      "Epoch 16/100\n",
      "347/347 [==============================] - 9s 26ms/step - loss: 2.0314\n",
      "Epoch 17/100\n",
      "347/347 [==============================] - 10s 28ms/step - loss: 1.9307\n",
      "Epoch 18/100\n",
      "347/347 [==============================] - 9s 25ms/step - loss: 1.8388\n",
      "Epoch 19/100\n",
      "347/347 [==============================] - 10s 27ms/step - loss: 1.7571\n",
      "Epoch 20/100\n",
      "347/347 [==============================] - 9s 25ms/step - loss: 1.6852\n",
      "Epoch 21/100\n",
      "347/347 [==============================] - 9s 26ms/step - loss: 1.6214\n",
      "Epoch 22/100\n",
      "347/347 [==============================] - 8s 24ms/step - loss: 1.5669\n",
      "Epoch 23/100\n",
      "347/347 [==============================] - 8s 24ms/step - loss: 1.5151\n",
      "Epoch 24/100\n",
      "347/347 [==============================] - 9s 26ms/step - loss: 1.4751\n",
      "Epoch 25/100\n",
      "347/347 [==============================] - 9s 27ms/step - loss: 1.4357\n",
      "Epoch 26/100\n",
      "347/347 [==============================] - 10s 29ms/step - loss: 1.4003\n",
      "Epoch 27/100\n",
      "347/347 [==============================] - 9s 27ms/step - loss: 1.3729\n",
      "Epoch 28/100\n",
      "347/347 [==============================] - 9s 27ms/step - loss: 1.3445\n",
      "Epoch 29/100\n",
      "347/347 [==============================] - 8s 24ms/step - loss: 1.3228\n",
      "Epoch 30/100\n",
      "347/347 [==============================] - 9s 25ms/step - loss: 1.3024\n",
      "Epoch 31/100\n",
      "347/347 [==============================] - 8s 24ms/step - loss: 1.2865\n",
      "Epoch 32/100\n",
      "347/347 [==============================] - 8s 23ms/step - loss: 1.2702\n",
      "Epoch 33/100\n",
      "347/347 [==============================] - 8s 22ms/step - loss: 1.2570\n",
      "Epoch 34/100\n",
      "347/347 [==============================] - 8s 23ms/step - loss: 1.2434\n",
      "Epoch 35/100\n",
      "347/347 [==============================] - 8s 22ms/step - loss: 1.2348\n",
      "Epoch 36/100\n",
      "347/347 [==============================] - 8s 22ms/step - loss: 1.2252\n",
      "Epoch 37/100\n",
      "347/347 [==============================] - 8s 24ms/step - loss: 1.2171\n",
      "Epoch 38/100\n",
      "347/347 [==============================] - 8s 24ms/step - loss: 1.2104\n",
      "Epoch 39/100\n",
      "347/347 [==============================] - 9s 25ms/step - loss: 1.2045\n",
      "Epoch 40/100\n",
      "347/347 [==============================] - 9s 26ms/step - loss: 1.2002\n",
      "Epoch 41/100\n",
      "347/347 [==============================] - 10s 27ms/step - loss: 1.1932\n",
      "Epoch 42/100\n",
      "347/347 [==============================] - 7s 21ms/step - loss: 1.1899\n",
      "Epoch 43/100\n",
      "347/347 [==============================] - 9s 27ms/step - loss: 1.1852\n",
      "Epoch 44/100\n",
      "347/347 [==============================] - 8s 24ms/step - loss: 1.1826\n",
      "Epoch 45/100\n",
      "347/347 [==============================] - 9s 27ms/step - loss: 1.1796\n",
      "Epoch 46/100\n",
      "347/347 [==============================] - 9s 25ms/step - loss: 1.1757\n",
      "Epoch 47/100\n",
      "347/347 [==============================] - 8s 24ms/step - loss: 1.1741\n",
      "Epoch 48/100\n",
      "347/347 [==============================] - 8s 24ms/step - loss: 1.1713\n",
      "Epoch 49/100\n",
      "347/347 [==============================] - 8s 23ms/step - loss: 1.1684\n",
      "Epoch 50/100\n",
      "347/347 [==============================] - 8s 24ms/step - loss: 1.1670\n",
      "Epoch 51/100\n",
      "347/347 [==============================] - 8s 24ms/step - loss: 1.1643\n",
      "Epoch 52/100\n",
      "347/347 [==============================] - 8s 22ms/step - loss: 1.1650\n",
      "Epoch 53/100\n",
      "347/347 [==============================] - 7s 21ms/step - loss: 1.1622\n",
      "Epoch 54/100\n",
      "347/347 [==============================] - 8s 22ms/step - loss: 1.1603\n",
      "Epoch 55/100\n",
      "347/347 [==============================] - 8s 24ms/step - loss: 1.1606\n",
      "Epoch 56/100\n",
      "347/347 [==============================] - 8s 24ms/step - loss: 1.1579\n",
      "Epoch 57/100\n",
      "347/347 [==============================] - 8s 24ms/step - loss: 1.1584\n",
      "Epoch 58/100\n",
      "347/347 [==============================] - 9s 25ms/step - loss: 1.1563\n",
      "Epoch 59/100\n",
      "347/347 [==============================] - 8s 24ms/step - loss: 1.1556\n",
      "Epoch 60/100\n",
      "347/347 [==============================] - 8s 23ms/step - loss: 1.1529\n",
      "Epoch 61/100\n",
      "347/347 [==============================] - 7s 22ms/step - loss: 1.1532\n",
      "Epoch 62/100\n",
      "347/347 [==============================] - 7s 21ms/step - loss: 1.1515\n",
      "Epoch 63/100\n",
      "347/347 [==============================] - 8s 23ms/step - loss: 1.1527\n",
      "Epoch 64/100\n",
      "347/347 [==============================] - 8s 22ms/step - loss: 1.1499\n",
      "Epoch 65/100\n",
      "347/347 [==============================] - 8s 23ms/step - loss: 1.1494\n",
      "Epoch 66/100\n",
      "347/347 [==============================] - 8s 24ms/step - loss: 1.1494\n",
      "Epoch 67/100\n",
      "347/347 [==============================] - 8s 24ms/step - loss: 1.1487\n",
      "Epoch 68/100\n",
      "347/347 [==============================] - 8s 22ms/step - loss: 1.1474\n",
      "Epoch 69/100\n",
      "347/347 [==============================] - 8s 23ms/step - loss: 1.1478\n",
      "Epoch 70/100\n",
      "347/347 [==============================] - 8s 24ms/step - loss: 1.1468\n",
      "Epoch 71/100\n",
      "347/347 [==============================] - 8s 24ms/step - loss: 1.1460\n",
      "Epoch 72/100\n",
      "347/347 [==============================] - 8s 24ms/step - loss: 1.1463\n",
      "Epoch 73/100\n",
      "347/347 [==============================] - 8s 23ms/step - loss: 1.1459\n",
      "Epoch 74/100\n",
      "347/347 [==============================] - 8s 24ms/step - loss: 1.1447\n",
      "Epoch 75/100\n",
      "347/347 [==============================] - 8s 22ms/step - loss: 1.1442\n",
      "Epoch 76/100\n",
      "347/347 [==============================] - 9s 25ms/step - loss: 1.1425\n",
      "Epoch 77/100\n",
      "347/347 [==============================] - 7s 21ms/step - loss: 1.1430\n",
      "Epoch 78/100\n",
      "347/347 [==============================] - 9s 26ms/step - loss: 1.1429\n",
      "Epoch 79/100\n",
      "347/347 [==============================] - 8s 22ms/step - loss: 1.1437\n",
      "Epoch 80/100\n",
      "347/347 [==============================] - 10s 29ms/step - loss: 1.1400\n",
      "Epoch 81/100\n",
      "347/347 [==============================] - 8s 24ms/step - loss: 1.1424\n",
      "Epoch 82/100\n",
      "347/347 [==============================] - 10s 29ms/step - loss: 1.1418\n",
      "Epoch 83/100\n",
      "347/347 [==============================] - 9s 25ms/step - loss: 1.1406\n",
      "Epoch 84/100\n",
      "347/347 [==============================] - 9s 26ms/step - loss: 1.1404\n",
      "Epoch 85/100\n",
      "347/347 [==============================] - 10s 28ms/step - loss: 1.1408\n",
      "Epoch 86/100\n",
      "347/347 [==============================] - 8s 23ms/step - loss: 1.1404\n",
      "Epoch 87/100\n",
      "347/347 [==============================] - 9s 27ms/step - loss: 1.1402\n",
      "Epoch 88/100\n",
      "347/347 [==============================] - 8s 23ms/step - loss: 1.1385\n",
      "Epoch 89/100\n",
      "347/347 [==============================] - 9s 27ms/step - loss: 1.1388\n",
      "Epoch 90/100\n",
      "347/347 [==============================] - 8s 24ms/step - loss: 1.1391\n",
      "Epoch 91/100\n",
      "347/347 [==============================] - 9s 25ms/step - loss: 1.1383\n",
      "Epoch 92/100\n",
      "347/347 [==============================] - 8s 23ms/step - loss: 1.1383\n",
      "Epoch 93/100\n",
      "347/347 [==============================] - 9s 25ms/step - loss: 1.1378\n",
      "Epoch 94/100\n",
      "347/347 [==============================] - 8s 23ms/step - loss: 1.1379\n",
      "Epoch 95/100\n",
      "347/347 [==============================] - 9s 26ms/step - loss: 1.1381\n",
      "Epoch 96/100\n",
      "347/347 [==============================] - 8s 24ms/step - loss: 1.1406\n",
      "Epoch 97/100\n",
      "347/347 [==============================] - 9s 25ms/step - loss: 1.1375\n",
      "Epoch 98/100\n",
      "347/347 [==============================] - 8s 24ms/step - loss: 1.1367\n",
      "Epoch 99/100\n",
      "347/347 [==============================] - 8s 24ms/step - loss: 1.1371\n",
      "Epoch 100/100\n",
      "347/347 [==============================] - 9s 25ms/step - loss: 1.1363\n"
     ]
    },
    {
     "data": {
      "text/plain": [
       "<keras.src.callbacks.History at 0x19699d0f0d0>"
      ]
     },
     "execution_count": 5,
     "metadata": {},
     "output_type": "execute_result"
    }
   ],
   "source": [
    "model.fit(predictors, tf.keras.utils.to_categorical(labels), epochs=100)\n"
   ]
  },
  {
   "cell_type": "markdown",
   "metadata": {
    "id": "JqhIb1m9nafJ"
   },
   "source": [
    "## Lyrics Generation"
   ]
  },
  {
   "cell_type": "code",
   "execution_count": 12,
   "metadata": {},
   "outputs": [],
   "source": [
    "def pred_class(text): \n",
    "    seed_text = text\n",
    "    next_words = 50\n",
    "    \n",
    "    for _ in range(next_words):\n",
    "        token_list = tokenizer.texts_to_sequences([seed_text])[0]\n",
    "        token_list = pad_sequences([token_list], maxlen=max_sequence_len-1, padding='pre')\n",
    "        predicted = np.argmax(model.predict(token_list, verbose=0), axis=-1)\n",
    "        output_word = \"\"\n",
    "        for word, index in tokenizer.word_index.items():\n",
    "            if index == predicted:\n",
    "                output_word = word\n",
    "                break\n",
    "        seed_text += \" \" + output_word\n",
    "    \n",
    "    return seed_text\n"
   ]
  },
  {
   "cell_type": "code",
   "execution_count": 20,
   "metadata": {},
   "outputs": [
    {
     "name": "stdin",
     "output_type": "stream",
     "text": [
      " there is\n"
     ]
    },
    {
     "name": "stdout",
     "output_type": "stream",
     "text": [
      "there is something else i don't care to fake it with no games we had do you no never things i'm ha gone through my life in control that you take me it all my fault that your'e high that it all that it all that and all your time lights like\n"
     ]
    }
   ],
   "source": [
    "# lancement du chatbot\n",
    "while True:\n",
    "    message = input(\"\")\n",
    "    intents = pred_class(message)\n",
    "    print(intents)"
   ]
  },
  {
   "cell_type": "code",
   "execution_count": null,
   "metadata": {},
   "outputs": [],
   "source": []
  }
 ],
 "metadata": {
  "colab": {
   "provenance": []
  },
  "kernelspec": {
   "display_name": "Python 3 (ipykernel)",
   "language": "python",
   "name": "python3"
  },
  "language_info": {
   "codemirror_mode": {
    "name": "ipython",
    "version": 3
   },
   "file_extension": ".py",
   "mimetype": "text/x-python",
   "name": "python",
   "nbconvert_exporter": "python",
   "pygments_lexer": "ipython3",
   "version": "3.11.5"
  }
 },
 "nbformat": 4,
 "nbformat_minor": 4
}
